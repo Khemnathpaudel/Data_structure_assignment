{
  "nbformat": 4,
  "nbformat_minor": 0,
  "metadata": {
    "colab": {
      "provenance": []
    },
    "kernelspec": {
      "name": "python3",
      "display_name": "Python 3"
    },
    "language_info": {
      "name": "python"
    }
  },
  "cells": [
    {
      "cell_type": "code",
      "execution_count": 1,
      "metadata": {
        "id": "Nblzc_dCoirA"
      },
      "outputs": [],
      "source": [
        "#Discuss string slicing and provide example..?"
      ]
    },
    {
      "cell_type": "code",
      "source": [
        "#ans:string slicing in python allows us to extract the part of string i.e is substring using the syntax: string[start:end:step]\n",
        "#example:\n",
        "st='my name is khan'\n",
        "print(st[2::2])"
      ],
      "metadata": {
        "colab": {
          "base_uri": "https://localhost:8080/"
        },
        "id": "fRBYK3Y0omPo",
        "outputId": "df47d956-3e3d-478b-8aa6-f739c1f3dc6e"
      },
      "execution_count": 3,
      "outputs": [
        {
          "output_type": "stream",
          "name": "stdout",
          "text": [
            " aei hn\n"
          ]
        }
      ]
    },
    {
      "cell_type": "code",
      "source": [
        "#2. Explain the key features of lists in python"
      ],
      "metadata": {
        "id": "xxICc47eomRv"
      },
      "execution_count": 4,
      "outputs": []
    },
    {
      "cell_type": "code",
      "source": [
        "#ans:lists in python are ordered and mutable collections that can store heterogenous dataset of different datatype.\n",
        "# List support indexing,slicing and various methods of manupulation like sort(),append(),remove()etc.."
      ],
      "metadata": {
        "id": "R73w3KNdomWj"
      },
      "execution_count": null,
      "outputs": []
    },
    {
      "cell_type": "code",
      "source": [
        "#3 Describe how to access,modify and delete elements in a list with examples"
      ],
      "metadata": {
        "id": "XUivtD8argtT"
      },
      "execution_count": null,
      "outputs": []
    },
    {
      "cell_type": "code",
      "source": [
        "#ans:we can access elements in a list using their index.\n",
        "#example\n",
        "my_list=[10,20,30,40]\n",
        "my_list[1]\n",
        "\n",
        "#modifying elements\n",
        "# To modify an element, assign a new value to the desired index:\n",
        "my_list[2]=10\n",
        "print(my_list)\n",
        "\n",
        "#Deleting elements\n",
        "# we can use remove(),pop() and del methods to delete elements\n",
        "del my_list[1]\n",
        "print(my_list)# this will remove the second elemts of my_list\n",
        "my_list.remove(10)# this will remove the first elements of my_list"
      ],
      "metadata": {
        "colab": {
          "base_uri": "https://localhost:8080/"
        },
        "id": "R-hQ-fjurg_x",
        "outputId": "f88e9469-0cb5-4963-daa6-74842b5ec654"
      },
      "execution_count": 5,
      "outputs": [
        {
          "output_type": "stream",
          "name": "stdout",
          "text": [
            "[10, 20, 10, 40]\n",
            "[10, 10, 40]\n"
          ]
        }
      ]
    },
    {
      "cell_type": "code",
      "source": [
        "#4 Compare and contrast tuples and lists with example."
      ],
      "metadata": {
        "id": "5BSzN_lguthO"
      },
      "execution_count": null,
      "outputs": []
    },
    {
      "cell_type": "code",
      "source": [
        "# comparision between lists and tuples\n",
        "#1.mutabililty- lists are mutable but tuples are not mutable means that can't be chnged or alter after creation\n",
        "#example\n",
        "my_list=[1,2,3,4,5]\n",
        "my_list[1]=4\n",
        "print(my_list) # it will replace the element 2 with 4\n",
        "my_tuple=(1,2,3,4,5)\n",
        "my_tuple[1]=4\n",
        "print(my_tuple)# it will throw and errow\n",
        "\n"
      ],
      "metadata": {
        "colab": {
          "base_uri": "https://localhost:8080/",
          "height": 228
        },
        "id": "VEavrFkNutkE",
        "outputId": "dc89c2e0-b52c-46a4-9324-a19ae11f728e"
      },
      "execution_count": 6,
      "outputs": [
        {
          "output_type": "stream",
          "name": "stdout",
          "text": [
            "[1, 4, 3, 4, 5]\n"
          ]
        },
        {
          "output_type": "error",
          "ename": "TypeError",
          "evalue": "'tuple' object does not support item assignment",
          "traceback": [
            "\u001b[0;31m---------------------------------------------------------------------------\u001b[0m",
            "\u001b[0;31mTypeError\u001b[0m                                 Traceback (most recent call last)",
            "\u001b[0;32m<ipython-input-6-e2dc25ca0884>\u001b[0m in \u001b[0;36m<cell line: 8>\u001b[0;34m()\u001b[0m\n\u001b[1;32m      6\u001b[0m \u001b[0mprint\u001b[0m\u001b[0;34m(\u001b[0m\u001b[0mmy_list\u001b[0m\u001b[0;34m)\u001b[0m \u001b[0;31m# it will replace the element 2 with 4\u001b[0m\u001b[0;34m\u001b[0m\u001b[0;34m\u001b[0m\u001b[0m\n\u001b[1;32m      7\u001b[0m \u001b[0mmy_tuple\u001b[0m\u001b[0;34m=\u001b[0m\u001b[0;34m(\u001b[0m\u001b[0;36m1\u001b[0m\u001b[0;34m,\u001b[0m\u001b[0;36m2\u001b[0m\u001b[0;34m,\u001b[0m\u001b[0;36m3\u001b[0m\u001b[0;34m,\u001b[0m\u001b[0;36m4\u001b[0m\u001b[0;34m,\u001b[0m\u001b[0;36m5\u001b[0m\u001b[0;34m)\u001b[0m\u001b[0;34m\u001b[0m\u001b[0;34m\u001b[0m\u001b[0m\n\u001b[0;32m----> 8\u001b[0;31m \u001b[0mmy_tuple\u001b[0m\u001b[0;34m[\u001b[0m\u001b[0;36m1\u001b[0m\u001b[0;34m]\u001b[0m\u001b[0;34m=\u001b[0m\u001b[0;36m4\u001b[0m\u001b[0;34m\u001b[0m\u001b[0;34m\u001b[0m\u001b[0m\n\u001b[0m\u001b[1;32m      9\u001b[0m \u001b[0mprint\u001b[0m\u001b[0;34m(\u001b[0m\u001b[0mmy_tuple\u001b[0m\u001b[0;34m)\u001b[0m\u001b[0;34m\u001b[0m\u001b[0;34m\u001b[0m\u001b[0m\n\u001b[1;32m     10\u001b[0m \u001b[0;34m\u001b[0m\u001b[0m\n",
            "\u001b[0;31mTypeError\u001b[0m: 'tuple' object does not support item assignment"
          ]
        }
      ]
    },
    {
      "cell_type": "code",
      "source": [
        "#use case\n",
        "#list are suitable for collections of items that may need to be modified\n",
        "# tuples are suitable for collections of items that are fixed"
      ],
      "metadata": {
        "id": "4sfYMbbgyTGa"
      },
      "execution_count": null,
      "outputs": []
    },
    {
      "cell_type": "code",
      "source": [
        "#performance\n",
        "# tuples are faster than list due to their immutability and list compared more memory compared to tuples"
      ],
      "metadata": {
        "id": "LQdtvORIutxD"
      },
      "execution_count": null,
      "outputs": []
    },
    {
      "cell_type": "code",
      "source": [
        "#5. Describe the key features of sets and provide examples of their use..?"
      ],
      "metadata": {
        "id": "sS4xUNiZutz9"
      },
      "execution_count": null,
      "outputs": []
    },
    {
      "cell_type": "code",
      "source": [
        "from typing import Union\n",
        "#ans: Sets in python are unordered collctions of unique elements of different datatype.They support operations like union, intersection\n",
        "# difference and other operations.\n",
        "#example\n",
        "set1={1,2,3,4}\n",
        "set2={3,4,5,6}\n",
        "#1.Union\n",
        "print(set1|set2)\n",
        "#2.Intersetion\n",
        "print(set1 & set2)\n",
        "#3.difference\n",
        "print(set1-set2)\n"
      ],
      "metadata": {
        "colab": {
          "base_uri": "https://localhost:8080/"
        },
        "id": "gc44BX2py4cV",
        "outputId": "dddb408a-2c0f-4b43-c131-2ce7fe06d2bf"
      },
      "execution_count": 9,
      "outputs": [
        {
          "output_type": "execute_result",
          "data": {
            "text/plain": [
              "{1, 2}"
            ]
          },
          "metadata": {},
          "execution_count": 9
        }
      ]
    },
    {
      "cell_type": "code",
      "source": [
        "#6.Discuss the use cases of tuples and sets in python programming..?"
      ],
      "metadata": {
        "id": "ypS3BsMHy4fO"
      },
      "execution_count": 10,
      "outputs": []
    },
    {
      "cell_type": "code",
      "source": [
        "#ans: Use cases of tuples and sets in python programming are listed below:\n",
        "# 1.tuples:\n",
        "# Fixed collections: ideal for storing fixed data like coordinates\n",
        "# Data integrity: when we want to ensure data remain unchanged such as database records.\n",
        "# 2.sets:\n",
        "# Unique elements:perfect for collections where duplicates are not allowed,like unique user ids.\n",
        "# Mathematical Operations: great for performing union, intersection, and difference operations on different datasets.\n"
      ],
      "metadata": {
        "id": "TJemjcWnzykK"
      },
      "execution_count": null,
      "outputs": []
    },
    {
      "cell_type": "code",
      "source": [],
      "metadata": {
        "id": "82w0B6KizysH"
      },
      "execution_count": null,
      "outputs": []
    },
    {
      "cell_type": "code",
      "source": [
        "# 7. Describe how to add,modify, and delete items in a dictionary with examples.?"
      ],
      "metadata": {
        "id": "jREqDjvI3rs-"
      },
      "execution_count": null,
      "outputs": []
    },
    {
      "cell_type": "code",
      "source": [
        "# ans:\n",
        "# 1.adding items:\n",
        "# to add an items in dictionary we use assignment operator:\n",
        "my_dict={}\n",
        "my_dict['key']='value'\n",
        "print(my_dict)\n",
        "# 2.modifying items:to modigy an item in dictionary, reassign its value:\n",
        "my_dict['key']='new_value'\n",
        "print(my_dict)\n",
        "# 3.deleting items: we can use pop and delete method to delete the items in Dictionaries\n",
        "del my_dict['key']\n",
        "# or\n",
        "#my_dict.pop('key')"
      ],
      "metadata": {
        "colab": {
          "base_uri": "https://localhost:8080/"
        },
        "id": "WAb4qLEc3rv2",
        "outputId": "3a5c7951-6f72-41c4-a203-e3f3e42f92a5"
      },
      "execution_count": 13,
      "outputs": [
        {
          "output_type": "stream",
          "name": "stdout",
          "text": [
            "{'key': 'value'}\n",
            "{'key': 'new_value'}\n"
          ]
        }
      ]
    },
    {
      "cell_type": "code",
      "source": [
        "#8.Discuss the importance of dictionary keys being immutable and provide examples..?"
      ],
      "metadata": {
        "id": "NdB0Ct5n5MNu"
      },
      "execution_count": 14,
      "outputs": []
    },
    {
      "cell_type": "code",
      "source": [
        "# ans:Dictionary keys in Python must be immutable to ensure the consistency and reliability of data retrieval.\n",
        "#  Immutable keys, like strings or tuples, ensure that the hash value of the key does not change.\n",
        "#  For example:\n",
        "#  using a list as a key would be problematic because lists can be modified, leading to potential errors in accessing values.\n",
        "\n",
        "\n",
        "\n",
        "\n",
        "\n"
      ],
      "metadata": {
        "id": "LkGfZW9q77jk"
      },
      "execution_count": null,
      "outputs": []
    },
    {
      "cell_type": "code",
      "source": [
        "my_dict = {(1, 2): \"value\"}\n",
        "print(my_dict[(1, 2)])\n",
        "my_dict = {[1, 2]: \"value\"}  # it raises an error\n"
      ],
      "metadata": {
        "colab": {
          "base_uri": "https://localhost:8080/",
          "height": 193
        },
        "id": "dWHziJ4z77md",
        "outputId": "4fe9d69c-d910-4e26-861a-974bfd3f0821"
      },
      "execution_count": 16,
      "outputs": [
        {
          "output_type": "stream",
          "name": "stdout",
          "text": [
            "value\n"
          ]
        },
        {
          "output_type": "error",
          "ename": "TypeError",
          "evalue": "unhashable type: 'list'",
          "traceback": [
            "\u001b[0;31m---------------------------------------------------------------------------\u001b[0m",
            "\u001b[0;31mTypeError\u001b[0m                                 Traceback (most recent call last)",
            "\u001b[0;32m<ipython-input-16-edb07913a538>\u001b[0m in \u001b[0;36m<cell line: 3>\u001b[0;34m()\u001b[0m\n\u001b[1;32m      1\u001b[0m \u001b[0mmy_dict\u001b[0m \u001b[0;34m=\u001b[0m \u001b[0;34m{\u001b[0m\u001b[0;34m(\u001b[0m\u001b[0;36m1\u001b[0m\u001b[0;34m,\u001b[0m \u001b[0;36m2\u001b[0m\u001b[0;34m)\u001b[0m\u001b[0;34m:\u001b[0m \u001b[0;34m\"value\"\u001b[0m\u001b[0;34m}\u001b[0m\u001b[0;34m\u001b[0m\u001b[0;34m\u001b[0m\u001b[0m\n\u001b[1;32m      2\u001b[0m \u001b[0mprint\u001b[0m\u001b[0;34m(\u001b[0m\u001b[0mmy_dict\u001b[0m\u001b[0;34m[\u001b[0m\u001b[0;34m(\u001b[0m\u001b[0;36m1\u001b[0m\u001b[0;34m,\u001b[0m \u001b[0;36m2\u001b[0m\u001b[0;34m)\u001b[0m\u001b[0;34m]\u001b[0m\u001b[0;34m)\u001b[0m\u001b[0;34m\u001b[0m\u001b[0;34m\u001b[0m\u001b[0m\n\u001b[0;32m----> 3\u001b[0;31m \u001b[0mmy_dict\u001b[0m \u001b[0;34m=\u001b[0m \u001b[0;34m{\u001b[0m\u001b[0;34m[\u001b[0m\u001b[0;36m1\u001b[0m\u001b[0;34m,\u001b[0m \u001b[0;36m2\u001b[0m\u001b[0;34m]\u001b[0m\u001b[0;34m:\u001b[0m \u001b[0;34m\"value\"\u001b[0m\u001b[0;34m}\u001b[0m  \u001b[0;31m# it raises an error\u001b[0m\u001b[0;34m\u001b[0m\u001b[0;34m\u001b[0m\u001b[0m\n\u001b[0m",
            "\u001b[0;31mTypeError\u001b[0m: unhashable type: 'list'"
          ]
        }
      ]
    },
    {
      "cell_type": "code",
      "source": [],
      "metadata": {
        "id": "6J28KZDJ9Wi3"
      },
      "execution_count": null,
      "outputs": []
    }
  ]
}